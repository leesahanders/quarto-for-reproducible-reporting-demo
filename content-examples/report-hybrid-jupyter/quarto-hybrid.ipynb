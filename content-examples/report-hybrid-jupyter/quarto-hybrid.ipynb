{
  "cells": [
    {
      "cell_type": "raw",
      "metadata": {},
      "source": [
        "---\n",
        "title: New Quarto document\n",
        "author: Lisa Anders\n",
        "format:\n",
        "  html:\n",
        "    theme:\n",
        "      light: flatly\n",
        "      dark: darkly\n",
        "editor: source\n",
        "---"
      ],
      "id": "458e771b"
    },
    {
      "cell_type": "markdown",
      "metadata": {},
      "source": [
        "## Quarto\n",
        "\n",
        "Quarto enables you to weave together content and executable code into a finished document. To learn more about Quarto see <https://quarto.org>.\n",
        "\n",
        "## Using Python\n",
        "\n",
        "When you click the **Render** button a document will be generated that includes both content and the output of embedded code. You can embed code like this:\n"
      ],
      "id": "33c39341"
    },
    {
      "cell_type": "code",
      "metadata": {},
      "source": [
        "#| label: fig-polar\n",
        "#| fig-cap: A line plot on a polar axis\n",
        "\n",
        "import numpy as np\n",
        "import matplotlib.pyplot as plt\n",
        "\n",
        "r = np.arange(0, 2, 0.01)\n",
        "theta = 2 * np.pi * r\n",
        "fig, ax = plt.subplots(\n",
        "  subplot_kw = {'projection': 'polar'} \n",
        ")\n",
        "ax.plot(theta, r)\n",
        "ax.set_rticks([0.5, 1, 1.5, 2])\n",
        "ax.grid(True)\n",
        "plt.show()"
      ],
      "id": "fig-polar",
      "execution_count": null,
      "outputs": []
    },
    {
      "cell_type": "markdown",
      "metadata": {},
      "source": [
        "Reference: <https://quarto.org/docs/computations/python.html>\n",
        "\n",
        "The `echo: false` option disables the printing of code (only output is displayed).\n"
      ],
      "id": "6f8720ec"
    },
    {
      "cell_type": "code",
      "metadata": {},
      "source": [
        "#| label: fig-polar\n",
        "#| fig-cap: A line plot on a polar axis\n",
        "#| echo: false\n",
        "\n",
        "import numpy as np\n",
        "import matplotlib.pyplot as plt\n",
        "\n",
        "r = np.arange(0, 2, 0.01)\n",
        "theta = 2 * np.pi * r\n",
        "fig, ax = plt.subplots(\n",
        "  subplot_kw = {'projection': 'polar'} \n",
        ")\n",
        "ax.plot(theta, r)\n",
        "ax.set_rticks([0.5, 1, 1.5, 2])\n",
        "ax.grid(True)\n",
        "plt.show()"
      ],
      "id": "fig-polar",
      "execution_count": null,
      "outputs": []
    },
    {
      "cell_type": "markdown",
      "metadata": {},
      "source": [
        "## Opening data from excel\n",
        "\n",
        "Create a workbook\n"
      ],
      "id": "9b681db8"
    },
    {
      "cell_type": "code",
      "metadata": {},
      "source": [
        "from openpyxl import Workbook\n",
        "\n",
        "workbook = Workbook()\n",
        "sheet = workbook.active\n",
        "\n",
        "sheet[\"A1\"] = \"hello\"\n",
        "sheet[\"B1\"] = \"world!\"\n",
        "\n",
        "workbook.save(filename=\"hello_world.xlsx\")"
      ],
      "id": "47d01859",
      "execution_count": null,
      "outputs": []
    },
    {
      "cell_type": "markdown",
      "metadata": {},
      "source": [
        "Load a Workbook\n"
      ],
      "id": "89db380a"
    },
    {
      "cell_type": "code",
      "metadata": {},
      "source": [
        "from openpyxl import load_workbook\n",
        "workbook = load_workbook(filename=\"hello_world.xlsx\")"
      ],
      "id": "b49c372f",
      "execution_count": null,
      "outputs": []
    },
    {
      "cell_type": "markdown",
      "metadata": {},
      "source": [
        "Reference: <https://realpython.com/openpyxl-excel-spreadsheets-python/>\n",
        "\n",
        "\n",
        "## Great tables!\n"
      ],
      "id": "ce67fef2"
    },
    {
      "cell_type": "code",
      "metadata": {},
      "source": [
        "#| warning: false\n",
        "\n",
        "import numpy \n",
        "import pandas\n",
        "import great_tables as gt\n",
        "from great_tables.data import sp500\n",
        "\n",
        "# Define the start and end dates for the data range\n",
        "start_date = \"2010-06-07\"\n",
        "end_date = \"2010-06-14\"\n",
        "\n",
        "# Filter sp500 using Pandas to dates between `start_date` and `end_date`\n",
        "sp500_mini = sp500[(sp500[\"date\"] >= start_date) & (sp500[\"date\"] <= end_date)]\n",
        "\n",
        "# Create a display table based on the `sp500_mini` table data\n",
        "(\n",
        "    gt.GT(data=sp500_mini)\n",
        "    .tab_header(title=\"S&P 500\", subtitle=f\"{start_date} to {end_date}\")\n",
        "    .fmt_currency(columns=[\"open\", \"high\", \"low\", \"close\"])\n",
        "    .fmt_date(columns=\"date\", date_style=\"wd_m_day_year\")\n",
        "    .fmt_number(columns=\"volume\", compact=True)\n",
        "    .cols_hide(columns=\"adj_close\")\n",
        ")"
      ],
      "id": "0b5c0b83",
      "execution_count": null,
      "outputs": []
    },
    {
      "cell_type": "markdown",
      "metadata": {},
      "source": [
        "## On Python and reticulate\n",
        "\n",
        "We can also prepare to run Python from R using knitr with `reticulate`: `library(reticulate)`\n",
        "\n",
        "In that case you may want to install Python using reticulate: `install_python(version = \"3.9:latest\", list = FALSE, force = FALSE)`\n",
        "\n",
        "In general, it [is recommended](https://rdrr.io/cran/reticulate/man/install_python.html) that Python virtual environments are created using the copies of Python installed by install_python(). For example:\n",
        "\n",
        "```\n",
        "library(reticulate)\n",
        "\n",
        "# There is also support for a \":latest\" suffix to select the latest patch release\n",
        "install_python(\"3.11:latest\") # install latest patch available at python.org\n",
        "\n",
        "# select the latest 3.11.* patch installed locally\n",
        "virtualenv_create(\"my-environment\", version = \"3.11:latest\")\n",
        "use_virtualenv(\"my-environment\")\n",
        "```\n",
        "\n",
        "> For example to resolve this error: ! 'CreateProcess' failed to run 'C:\\Program Files\\WindowsApps\\PythonSoftwareFoundation.Python.3.11_3.11.2544.0_x64__qbz5n2kfra8p0\\python.exe -c \"import sys; print(sys.platform)\"'\n",
        "\n",
        "### base R plot! \n",
        "\n",
        "```r\n",
        "x = sample(1:100, size = 1000, replace = TRUE)\n",
        "y = rnorm(1000, mean = 40, sd = 2)\n",
        "\n",
        "plot(x, y)\n",
        "```\n",
        "\n",
        "\n",
        "### ggplot2! \n",
        "\n",
        "```r\n",
        "library(ggplot2)\n",
        "\n",
        "gg <- ggplot(mpg, aes(displ, hwy, colour = class)) + \n",
        "  geom_point()\n",
        "\n",
        "gg\n",
        "```\n",
        "\n",
        "### plotly! \n",
        "\n",
        "```r\n",
        "library(plotly)\n",
        "\n",
        "ggplotly(gg)\n",
        "```"
      ],
      "id": "0cbb98a5"
    }
  ],
  "metadata": {
    "kernelspec": {
      "display_name": "Python 3",
      "language": "python",
      "name": "python3"
    }
  },
  "nbformat": 4,
  "nbformat_minor": 5
}